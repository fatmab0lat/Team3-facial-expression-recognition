{
 "cells": [
  {
   "cell_type": "code",
   "execution_count": null,
   "metadata": {},
   "outputs": [
    {
     "name": "stdout",
     "output_type": "stream",
     "text": [
      "Requirement already satisfied: pandas in c:\\users\\user\\appdata\\local\\programs\\python\\python39\\lib\\site-packages (2.2.3)\n",
      "Requirement already satisfied: pytz>=2020.1 in c:\\users\\user\\appdata\\local\\programs\\python\\python39\\lib\\site-packages (from pandas) (2024.2)\n",
      "Requirement already satisfied: python-dateutil>=2.8.2 in c:\\users\\user\\appdata\\roaming\\python\\python39\\site-packages (from pandas) (2.9.0.post0)\n",
      "Requirement already satisfied: numpy>=1.22.4 in c:\\users\\user\\appdata\\local\\programs\\python\\python39\\lib\\site-packages (from pandas) (1.26.4)\n",
      "Requirement already satisfied: tzdata>=2022.7 in c:\\users\\user\\appdata\\local\\programs\\python\\python39\\lib\\site-packages (from pandas) (2023.3)\n",
      "Requirement already satisfied: six>=1.5 in c:\\users\\user\\appdata\\local\\programs\\python\\python39\\lib\\site-packages (from python-dateutil>=2.8.2->pandas) (1.16.0)\n"
     ]
    },
    {
     "name": "stderr",
     "output_type": "stream",
     "text": [
      "WARNING: You are using pip version 21.2.3; however, version 24.3.1 is available.\n",
      "You should consider upgrading via the 'C:\\Users\\user\\AppData\\Local\\Programs\\Python\\Python39\\python.exe -m pip install --upgrade pip' command.\n"
     ]
    },
    {
     "name": "stdout",
     "output_type": "stream",
     "text": [
      "Requirement already satisfied: matplotlib in c:\\users\\user\\appdata\\local\\programs\\python\\python39\\lib\\site-packages (3.9.2)\n",
      "Requirement already satisfied: packaging>=20.0 in c:\\users\\user\\appdata\\roaming\\python\\python39\\site-packages (from matplotlib) (24.0)\n",
      "Requirement already satisfied: kiwisolver>=1.3.1 in c:\\users\\user\\appdata\\local\\programs\\python\\python39\\lib\\site-packages (from matplotlib) (1.4.7)\n",
      "Requirement already satisfied: python-dateutil>=2.7 in c:\\users\\user\\appdata\\roaming\\python\\python39\\site-packages (from matplotlib) (2.9.0.post0)\n",
      "Requirement already satisfied: numpy>=1.23 in c:\\users\\user\\appdata\\local\\programs\\python\\python39\\lib\\site-packages (from matplotlib) (1.26.4)\n",
      "Requirement already satisfied: pillow>=8 in c:\\users\\user\\appdata\\local\\programs\\python\\python39\\lib\\site-packages (from matplotlib) (10.3.0)\n",
      "Requirement already satisfied: contourpy>=1.0.1 in c:\\users\\user\\appdata\\local\\programs\\python\\python39\\lib\\site-packages (from matplotlib) (1.3.0)\n",
      "Requirement already satisfied: pyparsing>=2.3.1 in c:\\users\\user\\appdata\\local\\programs\\python\\python39\\lib\\site-packages (from matplotlib) (3.1.1)\n",
      "Requirement already satisfied: importlib-resources>=3.2.0 in c:\\users\\user\\appdata\\local\\programs\\python\\python39\\lib\\site-packages (from matplotlib) (6.4.5)\n",
      "Requirement already satisfied: cycler>=0.10 in c:\\users\\user\\appdata\\local\\programs\\python\\python39\\lib\\site-packages (from matplotlib) (0.12.1)\n",
      "Requirement already satisfied: fonttools>=4.22.0 in c:\\users\\user\\appdata\\local\\programs\\python\\python39\\lib\\site-packages (from matplotlib) (4.55.0)\n",
      "Requirement already satisfied: zipp>=3.1.0 in c:\\users\\user\\appdata\\roaming\\python\\python39\\site-packages (from importlib-resources>=3.2.0->matplotlib) (3.18.2)\n",
      "Requirement already satisfied: six>=1.5 in c:\\users\\user\\appdata\\local\\programs\\python\\python39\\lib\\site-packages (from python-dateutil>=2.7->matplotlib) (1.16.0)\n"
     ]
    },
    {
     "name": "stderr",
     "output_type": "stream",
     "text": [
      "WARNING: You are using pip version 21.2.3; however, version 24.3.1 is available.\n",
      "You should consider upgrading via the 'C:\\Users\\user\\AppData\\Local\\Programs\\Python\\Python39\\python.exe -m pip install --upgrade pip' command.\n"
     ]
    },
    {
     "name": "stdout",
     "output_type": "stream",
     "text": [
      "Collecting opencv-python\n",
      "  Downloading opencv_python-4.10.0.84-cp37-abi3-win_amd64.whl (38.8 MB)\n",
      "Requirement already satisfied: numpy>=1.17.0 in c:\\users\\user\\appdata\\local\\programs\\python\\python39\\lib\\site-packages (from opencv-python) (1.26.4)\n",
      "Installing collected packages: opencv-python\n",
      "Successfully installed opencv-python-4.10.0.84\n"
     ]
    },
    {
     "name": "stderr",
     "output_type": "stream",
     "text": [
      "WARNING: You are using pip version 21.2.3; however, version 24.3.1 is available.\n",
      "You should consider upgrading via the 'C:\\Users\\user\\AppData\\Local\\Programs\\Python\\Python39\\python.exe -m pip install --upgrade pip' command.\n"
     ]
    }
   ],
   "source": [
    "%pip install pandas\n",
    "%pip install matplotlib\n",
    "%pip install opencv-python\n"
   ]
  },
  {
   "cell_type": "code",
   "execution_count": 2,
   "metadata": {},
   "outputs": [
    {
     "name": "stdout",
     "output_type": "stream",
     "text": [
      "Category: angry\n",
      "  C:/Users/user/OneDrive/Masaüstü/fer2013\\train\\angry\\Training_10118481.jpg\n",
      "  C:/Users/user/OneDrive/Masaüstü/fer2013\\train\\angry\\Training_10120469.jpg\n",
      "  C:/Users/user/OneDrive/Masaüstü/fer2013\\train\\angry\\Training_10131352.jpg\n",
      "Category: disgust\n",
      "  C:/Users/user/OneDrive/Masaüstü/fer2013\\train\\disgust\\Training_10371709.jpg\n",
      "  C:/Users/user/OneDrive/Masaüstü/fer2013\\train\\disgust\\Training_10598340.jpg\n",
      "  C:/Users/user/OneDrive/Masaüstü/fer2013\\train\\disgust\\Training_1070239.jpg\n",
      "Category: fear\n",
      "  C:/Users/user/OneDrive/Masaüstü/fer2013\\train\\fear\\Training_10018621.jpg\n",
      "  C:/Users/user/OneDrive/Masaüstü/fer2013\\train\\fear\\Training_10031494.jpg\n",
      "  C:/Users/user/OneDrive/Masaüstü/fer2013\\train\\fear\\Training_10110501.jpg\n",
      "Category: happy\n",
      "  C:/Users/user/OneDrive/Masaüstü/fer2013\\train\\happy\\Training_10019449.jpg\n",
      "  C:/Users/user/OneDrive/Masaüstü/fer2013\\train\\happy\\Training_10046809.jpg\n",
      "  C:/Users/user/OneDrive/Masaüstü/fer2013\\train\\happy\\Training_10066226.jpg\n",
      "Category: neutral\n",
      "  C:/Users/user/OneDrive/Masaüstü/fer2013\\train\\neutral\\Training_10002154.jpg\n",
      "  C:/Users/user/OneDrive/Masaüstü/fer2013\\train\\neutral\\Training_10031781.jpg\n",
      "  C:/Users/user/OneDrive/Masaüstü/fer2013\\train\\neutral\\Training_10055498.jpg\n",
      "Category: sad\n",
      "  C:/Users/user/OneDrive/Masaüstü/fer2013\\train\\sad\\Training_10022789.jpg\n",
      "  C:/Users/user/OneDrive/Masaüstü/fer2013\\train\\sad\\Training_10031481.jpg\n",
      "  C:/Users/user/OneDrive/Masaüstü/fer2013\\train\\sad\\Training_10048646.jpg\n",
      "Category: surprise\n",
      "  C:/Users/user/OneDrive/Masaüstü/fer2013\\train\\surprise\\Training_10013223.jpg\n",
      "  C:/Users/user/OneDrive/Masaüstü/fer2013\\train\\surprise\\Training_1002457.jpg\n",
      "  C:/Users/user/OneDrive/Masaüstü/fer2013\\train\\surprise\\Training_10028230.jpg\n"
     ]
    }
   ],
   "source": [
    "import numpy as np\n",
    "import pandas as pd\n",
    "from tensorflow.keras.preprocessing.image import ImageDataGenerator\n",
    "import os\n",
    "from PIL import Image\n",
    "import matplotlib.pyplot as plt\n",
    "import cv2\n",
    "\n",
    "data_dir = 'C:/Users/user/OneDrive/Masaüstü/fer2013'\n",
    "train_dir = os.path.join(data_dir, \"train\")\n",
    "test_dir = os.path.join(data_dir, \"test\")\n",
    "\n",
    "first_3_images = {}\n",
    "\n",
    "# iterate over each category\n",
    "for category in os.listdir(train_dir):\n",
    "    category_path = os.path.join(train_dir, category)\n",
    "    if os.path.isdir(category_path):  # check if it is a dir or not\n",
    "        images = sorted(os.listdir(category_path))[:3]  # take the first 3 images\n",
    "        first_3_images[category] = [os.path.join(category_path, img) for img in images]\n",
    "\n",
    "# print the result\n",
    "for category, images in first_3_images.items():\n",
    "    print(f\"Category: {category}\")\n",
    "    for img in images:\n",
    "        print(f\"  {img}\")\n"
   ]
  },
  {
   "cell_type": "code",
   "execution_count": null,
   "metadata": {},
   "outputs": [],
   "source": []
  }
 ],
 "metadata": {
  "kernelspec": {
   "display_name": "Python 3",
   "language": "python",
   "name": "python3"
  },
  "language_info": {
   "codemirror_mode": {
    "name": "ipython",
    "version": 3
   },
   "file_extension": ".py",
   "mimetype": "text/x-python",
   "name": "python",
   "nbconvert_exporter": "python",
   "pygments_lexer": "ipython3",
   "version": "3.9.7"
  }
 },
 "nbformat": 4,
 "nbformat_minor": 2
}
